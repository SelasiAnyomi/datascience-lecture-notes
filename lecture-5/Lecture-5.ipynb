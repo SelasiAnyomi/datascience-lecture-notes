{
 "cells": [
  {
   "cell_type": "code",
   "execution_count": 1,
   "metadata": {},
   "outputs": [],
   "source": [
    "# map, filter, reduce, lambda"
   ]
  },
  {
   "cell_type": "code",
   "execution_count": 2,
   "metadata": {},
   "outputs": [
    {
     "name": "stdout",
     "output_type": "stream",
     "text": [
      "[1, 4, 9, 16, 25]\n"
     ]
    }
   ],
   "source": [
    "# map\n",
    "items = [1, 2, 3, 4, 5]\n",
    "squared = []\n",
    "for i in items:\n",
    "    squared.append(i**2)\n",
    "    \n",
    "print(squared)"
   ]
  },
  {
   "cell_type": "code",
   "execution_count": 4,
   "metadata": {},
   "outputs": [],
   "source": [
    "squared = [i**2 for i in items]"
   ]
  },
  {
   "cell_type": "code",
   "execution_count": 5,
   "metadata": {},
   "outputs": [
    {
     "name": "stdout",
     "output_type": "stream",
     "text": [
      "[1, 4, 9, 16, 25]\n"
     ]
    }
   ],
   "source": [
    "print(squared)"
   ]
  },
  {
   "cell_type": "code",
   "execution_count": 6,
   "metadata": {},
   "outputs": [
    {
     "name": "stdout",
     "output_type": "stream",
     "text": [
      "<map object at 0x7f32d0a45ee0>\n"
     ]
    }
   ],
   "source": [
    "def square(number):\n",
    "    return number ** 2\n",
    "\n",
    "squared = map(square, items)\n",
    "print(squared)"
   ]
  },
  {
   "cell_type": "code",
   "execution_count": 8,
   "metadata": {},
   "outputs": [
    {
     "name": "stdout",
     "output_type": "stream",
     "text": [
      "1\n",
      "4\n",
      "9\n",
      "16\n",
      "25\n"
     ]
    }
   ],
   "source": [
    "for i in squared:\n",
    "    print(i)"
   ]
  },
  {
   "cell_type": "code",
   "execution_count": 9,
   "metadata": {},
   "outputs": [],
   "source": [
    "squared = map(lambda item: item **2, items)"
   ]
  },
  {
   "cell_type": "code",
   "execution_count": 10,
   "metadata": {},
   "outputs": [
    {
     "name": "stdout",
     "output_type": "stream",
     "text": [
      "1\n",
      "4\n",
      "9\n",
      "16\n",
      "25\n"
     ]
    }
   ],
   "source": [
    "for i in squared:\n",
    "    print(i)"
   ]
  },
  {
   "cell_type": "code",
   "execution_count": 11,
   "metadata": {},
   "outputs": [],
   "source": [
    "l = [\"kojo\", \"ama\", \"akosu\", \"kofi\", \"kwame\"]"
   ]
  },
  {
   "cell_type": "code",
   "execution_count": 12,
   "metadata": {},
   "outputs": [],
   "source": [
    "def sum(a,b):\n",
    "    return a + b"
   ]
  },
  {
   "cell_type": "code",
   "execution_count": 13,
   "metadata": {},
   "outputs": [
    {
     "data": {
      "text/plain": [
       "8"
      ]
     },
     "execution_count": 13,
     "metadata": {},
     "output_type": "execute_result"
    }
   ],
   "source": [
    "sum(3, 5)"
   ]
  },
  {
   "cell_type": "code",
   "execution_count": 14,
   "metadata": {},
   "outputs": [],
   "source": [
    "sum = lambda a,b: a+b"
   ]
  },
  {
   "cell_type": "code",
   "execution_count": 15,
   "metadata": {},
   "outputs": [
    {
     "data": {
      "text/plain": [
       "7"
      ]
     },
     "execution_count": 15,
     "metadata": {},
     "output_type": "execute_result"
    }
   ],
   "source": [
    "sum(2, 5)"
   ]
  },
  {
   "cell_type": "code",
   "execution_count": 17,
   "metadata": {},
   "outputs": [],
   "source": [
    "capitalized = lambda name: name.capitalize()"
   ]
  },
  {
   "cell_type": "code",
   "execution_count": 18,
   "metadata": {},
   "outputs": [
    {
     "data": {
      "text/plain": [
       "'John snow'"
      ]
     },
     "execution_count": 18,
     "metadata": {},
     "output_type": "execute_result"
    }
   ],
   "source": [
    "capitalized(\"john snow\")"
   ]
  },
  {
   "cell_type": "code",
   "execution_count": 19,
   "metadata": {},
   "outputs": [],
   "source": [
    "upper_case = lambda name: name.upper()"
   ]
  },
  {
   "cell_type": "code",
   "execution_count": 20,
   "metadata": {},
   "outputs": [
    {
     "data": {
      "text/plain": [
       "'AKOSUA'"
      ]
     },
     "execution_count": 20,
     "metadata": {},
     "output_type": "execute_result"
    }
   ],
   "source": [
    "upper_case(\"akosua\")"
   ]
  },
  {
   "cell_type": "code",
   "execution_count": 21,
   "metadata": {},
   "outputs": [],
   "source": [
    "def upper_case(name):\n",
    "    return name.upper()"
   ]
  },
  {
   "cell_type": "code",
   "execution_count": 22,
   "metadata": {},
   "outputs": [],
   "source": [
    "names = [\"akos\", \"john\",  \"snow\", \"kafui\", \"kwame\"]"
   ]
  },
  {
   "cell_type": "code",
   "execution_count": 23,
   "metadata": {},
   "outputs": [],
   "source": [
    "new_names = map(lambda name: name.upper(), names)"
   ]
  },
  {
   "cell_type": "code",
   "execution_count": 24,
   "metadata": {},
   "outputs": [
    {
     "name": "stdout",
     "output_type": "stream",
     "text": [
      "AKOS\n",
      "JOHN\n",
      "SNOW\n",
      "KAFUI\n",
      "KWAME\n"
     ]
    }
   ],
   "source": [
    "for name in new_names:\n",
    "    print(name)"
   ]
  },
  {
   "cell_type": "code",
   "execution_count": null,
   "metadata": {},
   "outputs": [],
   "source": []
  },
  {
   "cell_type": "code",
   "execution_count": 26,
   "metadata": {},
   "outputs": [],
   "source": [
    "coordinate = [(2, 4), (8, 5), (-2,5)]\n",
    "# Give (x,y) transform into 180 degrees anticlockwise\n",
    "# (x, y) -> (-x, -y)"
   ]
  },
  {
   "cell_type": "code",
   "execution_count": 45,
   "metadata": {},
   "outputs": [],
   "source": [
    "def transformation_vector(item):\n",
    "    x, y = item\n",
    "    return (-x, -y)\n",
    "\n",
    "transformed_coordinate = map(transformation_vector, coordinate)"
   ]
  },
  {
   "cell_type": "code",
   "execution_count": 46,
   "metadata": {},
   "outputs": [
    {
     "name": "stdout",
     "output_type": "stream",
     "text": [
      "(-2, -4)\n",
      "(-8, -5)\n",
      "(2, -5)\n"
     ]
    }
   ],
   "source": [
    "for item in transformed_coordinate:\n",
    "    print(item)"
   ]
  },
  {
   "cell_type": "code",
   "execution_count": 47,
   "metadata": {},
   "outputs": [],
   "source": [
    "# Give a list of tuples calculate reflection in the x axis\n",
    "# (x, y) -> (x, -y)"
   ]
  },
  {
   "cell_type": "code",
   "execution_count": 1,
   "metadata": {},
   "outputs": [],
   "source": [
    "coordinates = [(3,4), (-9, 10), (4, 2), (8, 16)]"
   ]
  },
  {
   "cell_type": "code",
   "execution_count": 2,
   "metadata": {},
   "outputs": [],
   "source": [
    "#  reduce, [1, 4, 5 , 7]"
   ]
  },
  {
   "cell_type": "code",
   "execution_count": 3,
   "metadata": {},
   "outputs": [
    {
     "name": "stdout",
     "output_type": "stream",
     "text": [
      "17\n"
     ]
    }
   ],
   "source": [
    "numbers = [1, 4, 5 , 7]\n",
    "sum = 0\n",
    "for i in numbers:\n",
    "    sum = sum + i\n",
    "    \n",
    "print(sum)"
   ]
  },
  {
   "cell_type": "code",
   "execution_count": 4,
   "metadata": {},
   "outputs": [],
   "source": [
    "# 0 \n",
    "# sum = 0 + 1\n",
    "# sum = 1 + 4\n",
    "# sum = 5 + 5\n",
    "# sum = 10 + 7\n",
    "# sum = 17"
   ]
  },
  {
   "cell_type": "code",
   "execution_count": 5,
   "metadata": {},
   "outputs": [],
   "source": [
    "import functools\n",
    "def add(a, b):\n",
    "    return a + b\n",
    "answer = functools.reduce(add, numbers)"
   ]
  },
  {
   "cell_type": "code",
   "execution_count": 6,
   "metadata": {},
   "outputs": [
    {
     "name": "stdout",
     "output_type": "stream",
     "text": [
      "17\n"
     ]
    }
   ],
   "source": [
    "print(answer)"
   ]
  },
  {
   "cell_type": "code",
   "execution_count": 7,
   "metadata": {},
   "outputs": [],
   "source": [
    "answer = functools.reduce(add, numbers, 0)"
   ]
  },
  {
   "cell_type": "code",
   "execution_count": 8,
   "metadata": {},
   "outputs": [
    {
     "name": "stdout",
     "output_type": "stream",
     "text": [
      "17\n"
     ]
    }
   ],
   "source": [
    "print(answer)"
   ]
  },
  {
   "cell_type": "code",
   "execution_count": 9,
   "metadata": {},
   "outputs": [],
   "source": [
    "answer = functools.reduce(add, numbers, 10)"
   ]
  },
  {
   "cell_type": "code",
   "execution_count": 10,
   "metadata": {},
   "outputs": [
    {
     "name": "stdout",
     "output_type": "stream",
     "text": [
      "27\n"
     ]
    }
   ],
   "source": [
    "print(answer)"
   ]
  },
  {
   "cell_type": "code",
   "execution_count": 11,
   "metadata": {},
   "outputs": [],
   "source": [
    "answer = functools.reduce(lambda a,b: a + b, numbers, 10)"
   ]
  },
  {
   "cell_type": "code",
   "execution_count": 12,
   "metadata": {},
   "outputs": [
    {
     "name": "stdout",
     "output_type": "stream",
     "text": [
      "27\n"
     ]
    }
   ],
   "source": [
    "print(answer)"
   ]
  },
  {
   "cell_type": "code",
   "execution_count": 13,
   "metadata": {},
   "outputs": [],
   "source": [
    "co = [(1,3,4), (2,1,8), (9,2,3), (1, 5, 7), (8, -2,3)]\n",
    "# reduce list into one vector (x, y, z) using addition."
   ]
  },
  {
   "cell_type": "code",
   "execution_count": 14,
   "metadata": {},
   "outputs": [],
   "source": [
    "def addition(accumulator, each_tuple):\n",
    "    x1, y1, z1 = each_tuple\n",
    "    x2, y2, z2 = accumulator\n",
    "    return (x1+x2, y1+y2, z1+z2)\n",
    "answer = functools.reduce(addition, co, (0,0, 0))"
   ]
  },
  {
   "cell_type": "code",
   "execution_count": 15,
   "metadata": {},
   "outputs": [
    {
     "name": "stdout",
     "output_type": "stream",
     "text": [
      "(21, 9, 25)\n"
     ]
    }
   ],
   "source": [
    "print(answer)"
   ]
  },
  {
   "cell_type": "code",
   "execution_count": 16,
   "metadata": {},
   "outputs": [],
   "source": [
    "coordinate = [(1,1), (2,3), (5,2)]"
   ]
  },
  {
   "cell_type": "code",
   "execution_count": 18,
   "metadata": {},
   "outputs": [
    {
     "name": "stdout",
     "output_type": "stream",
     "text": [
      "[(1, 1), (2, 3), (5, 2)]\n"
     ]
    }
   ],
   "source": [
    "print(coordinate)"
   ]
  },
  {
   "cell_type": "code",
   "execution_count": 2,
   "metadata": {},
   "outputs": [],
   "source": [
    "payload = [\n",
    "  {\n",
    "    \"id\": \"5b0fcebcb4fea40a51e66ef1\",\n",
    "    \"item\": \"orange\",\n",
    "    \"type\": \"fruit\",\n",
    "    \"selling_price\": 20,\n",
    "    \"cost_price\": 5,\n",
    "    \"quantity\": 4\n",
    "  },\n",
    "  {\n",
    "    \"id\": \"5b0fcebce0cbd5c82feefe03\",\n",
    "    \"item\": \"rice\",\n",
    "    \"type\": \"cereal\",\n",
    "    \"selling_price\": 25,\n",
    "    \"cost_price\": 5,\n",
    "    \"quantity\": 10\n",
    "},\n",
    "  {\n",
    "    \"id\": \"5b0fcebc02e2e05596d32645\",\n",
    "    \"item\": \"maize\",\n",
    "    \"type\": \"cereal\",\n",
    "    \"selling_price\": 10,\n",
    "    \"cost_price\": 10,\n",
    "    \"quantity\": 2\n",
    "  },\n",
    "  {\n",
    "    \"id\": \"5b0fcebc4c4f4723ff70df07\",\n",
    "    \"item\": \"banana\",\n",
    "    \"type\": \"fruit\",\n",
    "    \"selling_price\": 15,\n",
    "    \"cost_price\": 15,\n",
    "    \"quantity\": 8\n",
    "  },\n",
    "  {\n",
    "    \"id\": \"5b0fcebcab68c47c915b6c3d\",\n",
    "    \"item\": \"millet\",\n",
    "    \"type\": \"cereal\",\n",
    "    \"selling_price\": 20,\n",
    "    \"cost_price\": 5,\n",
    "    \"quantity\": 4\n",
    "  }\n",
    "]"
   ]
  },
  {
   "cell_type": "code",
   "execution_count": 3,
   "metadata": {},
   "outputs": [
    {
     "data": {
      "text/plain": [
       "[{'id': '5b0fcebcb4fea40a51e66ef1',\n",
       "  'item': 'orange',\n",
       "  'type': 'fruit',\n",
       "  'selling_price': 20,\n",
       "  'cost_price': 5,\n",
       "  'quantity': 4},\n",
       " {'id': '5b0fcebce0cbd5c82feefe03',\n",
       "  'item': 'rice',\n",
       "  'type': 'cereal',\n",
       "  'selling_price': 25,\n",
       "  'cost_price': 5,\n",
       "  'quantity': 10},\n",
       " {'id': '5b0fcebc02e2e05596d32645',\n",
       "  'item': 'maize',\n",
       "  'type': 'cereal',\n",
       "  'selling_price': 10,\n",
       "  'cost_price': 10,\n",
       "  'quantity': 2},\n",
       " {'id': '5b0fcebc4c4f4723ff70df07',\n",
       "  'item': 'banana',\n",
       "  'type': 'fruit',\n",
       "  'selling_price': 15,\n",
       "  'cost_price': 15,\n",
       "  'quantity': 8},\n",
       " {'id': '5b0fcebcab68c47c915b6c3d',\n",
       "  'item': 'millet',\n",
       "  'type': 'cereal',\n",
       "  'selling_price': 20,\n",
       "  'cost_price': 5,\n",
       "  'quantity': 4}]"
      ]
     },
     "execution_count": 3,
     "metadata": {},
     "output_type": "execute_result"
    }
   ],
   "source": [
    "payload"
   ]
  },
  {
   "cell_type": "code",
   "execution_count": 4,
   "metadata": {},
   "outputs": [],
   "source": [
    "# Given the above payload calculate total revenue and total cost"
   ]
  },
  {
   "cell_type": "code",
   "execution_count": 5,
   "metadata": {},
   "outputs": [],
   "source": [
    "# Total Revenue(TR) = Price (CP) *Quantity (Q)\n",
    "# Total Cost (TC) = Cost Price (CP) * Quantity (Q)"
   ]
  },
  {
   "cell_type": "code",
   "execution_count": 8,
   "metadata": {},
   "outputs": [
    {
     "name": "stdout",
     "output_type": "stream",
     "text": [
      "{'TR': 550, 'TC': 230}\n",
      "320\n"
     ]
    }
   ],
   "source": [
    "import functools\n",
    "def callback(acc, item):\n",
    "    acc[\"TR\"] = acc[\"TR\"] + item[\"selling_price\"] * item[\"quantity\"]\n",
    "    acc[\"TC\"] = acc[\"TC\"] + item[\"cost_price\"] * item[\"quantity\"]\n",
    "    return acc\n",
    "\n",
    "initial_value = {\"TR\": 0, \"TC\": 0}\n",
    "results = functools.reduce(callback, payload, initial_value)\n",
    "print(results)\n",
    "# Profit or loss = TR - TC > 0 you made profit if TR - TC < 0 loss\n",
    "profit_loss = results[\"TR\"] - results[\"TC\"]\n",
    "# \n",
    "print(profit_loss)"
   ]
  },
  {
   "cell_type": "code",
   "execution_count": 10,
   "metadata": {},
   "outputs": [],
   "source": [
    "names = [\"Alfred\", \"Fred\", \"Anyomi\", \"Akos\", \"John doe\"]"
   ]
  },
  {
   "cell_type": "code",
   "execution_count": 12,
   "metadata": {},
   "outputs": [
    {
     "name": "stdout",
     "output_type": "stream",
     "text": [
      "<filter object at 0x7f14363bec10>\n"
     ]
    }
   ],
   "source": [
    "def find_name(name):\n",
    "    return not name ==  \"Alfred\"\n",
    "filtered_name = filter(find_name, names)\n",
    "print(filtered_name)"
   ]
  },
  {
   "cell_type": "code",
   "execution_count": 16,
   "metadata": {},
   "outputs": [],
   "source": [
    "for name in filtered_name:\n",
    "    print(name)"
   ]
  },
  {
   "cell_type": "code",
   "execution_count": 14,
   "metadata": {},
   "outputs": [],
   "source": [
    "filtered = list(filtered_name)"
   ]
  },
  {
   "cell_type": "code",
   "execution_count": 15,
   "metadata": {},
   "outputs": [
    {
     "name": "stdout",
     "output_type": "stream",
     "text": [
      "[]\n"
     ]
    }
   ],
   "source": [
    "print(filtered)"
   ]
  },
  {
   "cell_type": "code",
   "execution_count": 17,
   "metadata": {},
   "outputs": [],
   "source": [
    "filtered = list(filtered_name)"
   ]
  },
  {
   "cell_type": "code",
   "execution_count": 18,
   "metadata": {},
   "outputs": [
    {
     "name": "stdout",
     "output_type": "stream",
     "text": [
      "[]\n"
     ]
    }
   ],
   "source": [
    "print(filtered)"
   ]
  },
  {
   "cell_type": "code",
   "execution_count": 19,
   "metadata": {},
   "outputs": [],
   "source": [
    "numbers = [3, 80, 50, 2, 21]\n",
    "\n",
    "result = filter(lambda x: x % 2 == 0, numbers)"
   ]
  },
  {
   "cell_type": "code",
   "execution_count": 20,
   "metadata": {},
   "outputs": [
    {
     "name": "stdout",
     "output_type": "stream",
     "text": [
      "80\n",
      "50\n",
      "2\n"
     ]
    }
   ],
   "source": [
    "for n in result:\n",
    "    print(n)"
   ]
  },
  {
   "cell_type": "code",
   "execution_count": null,
   "metadata": {},
   "outputs": [],
   "source": []
  }
 ],
 "metadata": {
  "kernelspec": {
   "display_name": "Python 3",
   "language": "python",
   "name": "python3"
  },
  "language_info": {
   "codemirror_mode": {
    "name": "ipython",
    "version": 3
   },
   "file_extension": ".py",
   "mimetype": "text/x-python",
   "name": "python",
   "nbconvert_exporter": "python",
   "pygments_lexer": "ipython3",
   "version": "3.8.3"
  }
 },
 "nbformat": 4,
 "nbformat_minor": 4
}
