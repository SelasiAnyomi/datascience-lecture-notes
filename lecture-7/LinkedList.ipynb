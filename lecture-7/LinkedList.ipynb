{
 "cells": [
  {
   "cell_type": "code",
   "execution_count": 1,
   "metadata": {},
   "outputs": [],
   "source": [
    "class Node():\n",
    "    def __init__(self, value):\n",
    "        self.value = value\n",
    "        self.link = None"
   ]
  },
  {
   "cell_type": "code",
   "execution_count": 19,
   "metadata": {},
   "outputs": [],
   "source": [
    "class LinkedinList():\n",
    "    def __init__(self):\n",
    "        self.start = None\n",
    "        \n",
    "    def delete_start(self):\n",
    "        if self.start is None:\n",
    "            print('nothing to delete')\n",
    "        elif self.start.link is None:\n",
    "            self.start = None\n",
    "        else:\n",
    "            self.start = self.start.link\n",
    "    \n",
    "    def delete_last(self):\n",
    "        if self.start is None:\n",
    "            print('nothing to delete')\n",
    "        elif self.start.link is None:\n",
    "            self.start = None\n",
    "        else:\n",
    "            node = self.start\n",
    "            while node.link.link is not None:\n",
    "                node = node.link\n",
    "            node.link = None\n",
    "        \n",
    "        \n",
    "    def delete(self, value):\n",
    "        if self.start is None:# empty list\n",
    "            print('nothing to delete')\n",
    "        elif self.start.value == value and self.start.link is None:# only start item present\n",
    "            self.start = None\n",
    "        elif self.start.value == value and self.start.link is not None: # only two items present\n",
    "            self.start = self.start.link\n",
    "        elif self.start.link is not None:\n",
    "            node = self.start\n",
    "            found = False\n",
    "            while node.link is not None:\n",
    "                if node.link.value == value:\n",
    "                    print(\"item {} to be deleted from linkedlist\".format(value))\n",
    "                    found = True\n",
    "                    break\n",
    "                node = node.link\n",
    "            if found and node.link is not None:\n",
    "                node.link = node.link.link # item is in between other items\n",
    "                return\n",
    "            elif found:\n",
    "                node.link = None # delete last element\n",
    "                return\n",
    "            print('item to be deleted not found')\n",
    "        else:\n",
    "            print('item doesnot exist')\n",
    "    \n",
    "    def search(self, value):\n",
    "        node = self.start\n",
    "        while node is not None:\n",
    "            if node.value == value:\n",
    "                print('Item found')\n",
    "                return True\n",
    "            node = node.link\n",
    "            \n",
    "        print('item wasnt found')\n",
    "        return False\n",
    "    \n",
    "    def insert_at_beginning(self, value):\n",
    "        if self.start is None:\n",
    "            self.start = Node(value)\n",
    "        else:\n",
    "            node = self.start\n",
    "            self.start = Node(value)\n",
    "            self.start.link = node\n",
    "    \n",
    "    def insert_at_end(self, value):\n",
    "        if self.start is None:\n",
    "            self.start = Node(value)\n",
    "        else:\n",
    "            node = self.start\n",
    "            while node.link is not None:\n",
    "                node = node.link\n",
    "            \n",
    "            node.link = Node(value)\n",
    "        \n",
    "    def print_item(self):\n",
    "        node = self.start\n",
    "        if node is None:\n",
    "            print('No items to print')\n",
    "            return\n",
    "        \n",
    "        while node is not None:\n",
    "            print(node.value)\n",
    "            node = node.link\n",
    "            \n",
    "    def size(self):\n",
    "        node = self.start\n",
    "        count = 0\n",
    "        while node is not None:\n",
    "            count += 1\n",
    "            node = node.link\n",
    "    \n",
    "    def insert_after(self, value, node):\n",
    "        pass\n",
    "    \n",
    "    def insert_before(self, value, node):\n",
    "        pass"
   ]
  },
  {
   "cell_type": "code",
   "execution_count": 20,
   "metadata": {},
   "outputs": [],
   "source": [
    "linkedList = LinkedinList()"
   ]
  },
  {
   "cell_type": "code",
   "execution_count": 21,
   "metadata": {},
   "outputs": [],
   "source": [
    "linkedList.insert_at_beginning(4)"
   ]
  },
  {
   "cell_type": "code",
   "execution_count": 22,
   "metadata": {},
   "outputs": [],
   "source": [
    "linkedList.insert_at_beginning(9)"
   ]
  },
  {
   "cell_type": "code",
   "execution_count": 23,
   "metadata": {},
   "outputs": [
    {
     "name": "stdout",
     "output_type": "stream",
     "text": [
      "9\n",
      "4\n"
     ]
    }
   ],
   "source": [
    "linkedList.print_item()"
   ]
  },
  {
   "cell_type": "code",
   "execution_count": 24,
   "metadata": {},
   "outputs": [],
   "source": [
    "linkedList.insert_at_end(5)"
   ]
  },
  {
   "cell_type": "code",
   "execution_count": 25,
   "metadata": {},
   "outputs": [
    {
     "name": "stdout",
     "output_type": "stream",
     "text": [
      "9\n",
      "4\n",
      "5\n"
     ]
    }
   ],
   "source": [
    "linkedList.print_item()"
   ]
  },
  {
   "cell_type": "code",
   "execution_count": 26,
   "metadata": {},
   "outputs": [],
   "source": [
    "linkedList.insert_at_end(15)"
   ]
  },
  {
   "cell_type": "code",
   "execution_count": 27,
   "metadata": {},
   "outputs": [
    {
     "name": "stdout",
     "output_type": "stream",
     "text": [
      "9\n",
      "4\n",
      "5\n",
      "15\n"
     ]
    }
   ],
   "source": [
    "linkedList.print_item()"
   ]
  },
  {
   "cell_type": "code",
   "execution_count": 28,
   "metadata": {},
   "outputs": [
    {
     "name": "stdout",
     "output_type": "stream",
     "text": [
      "item 15 to be deleted from linkedlist\n"
     ]
    }
   ],
   "source": [
    "linkedList.delete(15)"
   ]
  },
  {
   "cell_type": "code",
   "execution_count": 29,
   "metadata": {},
   "outputs": [
    {
     "name": "stdout",
     "output_type": "stream",
     "text": [
      "9\n",
      "4\n",
      "5\n"
     ]
    }
   ],
   "source": [
    "linkedList.print_item()"
   ]
  },
  {
   "cell_type": "code",
   "execution_count": 31,
   "metadata": {},
   "outputs": [
    {
     "name": "stdout",
     "output_type": "stream",
     "text": [
      "item to be deleted not found\n"
     ]
    }
   ],
   "source": [
    "linkedList.delete(4)"
   ]
  },
  {
   "cell_type": "code",
   "execution_count": 32,
   "metadata": {},
   "outputs": [
    {
     "name": "stdout",
     "output_type": "stream",
     "text": [
      "9\n",
      "5\n"
     ]
    }
   ],
   "source": [
    "linkedList.print_item()"
   ]
  },
  {
   "cell_type": "code",
   "execution_count": 33,
   "metadata": {},
   "outputs": [],
   "source": [
    "linkedList.delete(9)"
   ]
  },
  {
   "cell_type": "code",
   "execution_count": 34,
   "metadata": {},
   "outputs": [
    {
     "name": "stdout",
     "output_type": "stream",
     "text": [
      "5\n"
     ]
    }
   ],
   "source": [
    "linkedList.print_item()"
   ]
  },
  {
   "cell_type": "code",
   "execution_count": 35,
   "metadata": {},
   "outputs": [],
   "source": [
    "linkedList.delete(5)"
   ]
  },
  {
   "cell_type": "code",
   "execution_count": 36,
   "metadata": {},
   "outputs": [
    {
     "name": "stdout",
     "output_type": "stream",
     "text": [
      "No items to print\n"
     ]
    }
   ],
   "source": [
    "linkedList.print_item()"
   ]
  }
 ],
 "metadata": {
  "kernelspec": {
   "display_name": "Python 3",
   "language": "python",
   "name": "python3"
  },
  "language_info": {
   "codemirror_mode": {
    "name": "ipython",
    "version": 3
   },
   "file_extension": ".py",
   "mimetype": "text/x-python",
   "name": "python",
   "nbconvert_exporter": "python",
   "pygments_lexer": "ipython3",
   "version": "3.8.3"
  }
 },
 "nbformat": 4,
 "nbformat_minor": 4
}
