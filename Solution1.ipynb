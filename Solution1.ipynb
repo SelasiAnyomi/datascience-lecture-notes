{
 "cells": [
  {
   "cell_type": "code",
   "execution_count": 6,
   "metadata": {},
   "outputs": [],
   "source": [
    "# Given a valid quadratic equation ax^2+bx+c=0, calculate the roots, ie. the value of x and return as tuple\n"
   ]
  },
  {
   "cell_type": "code",
   "execution_count": 7,
   "metadata": {},
   "outputs": [],
   "source": [
    "# calculate the discriminant first\n",
    "# discriminant = d = (b**2)-(4*a*c)\n",
    "# check if discriminant < 0\n",
    "# return none if dicriminant is less than 0\n",
    "# return result \"x1\" = {} and x2 = {}\n",
    "# where x1 = (-b -math.sqrt(discriminant))/(2*a)\n",
    "# where x2 = (-b +math.sqrt(discriminant))/(2*a)\n",
    "# return x1, x2\n",
    "import math\n",
    "def calculate_roots(a,b,c):\n",
    "    \n",
    "    discriminant = (b**2)-(4*a*c)\n",
    "    if discriminant < 0:\n",
    "        return None\n",
    "    else:\n",
    "        x1 = (-b -math.sqrt(discriminant))/(2*a)\n",
    "        x2 = (-b +math.sqrt(discriminant))/(2*a)\n",
    "        return x1,x2\n",
    "        \n",
    "\n"
   ]
  },
  {
   "cell_type": "code",
   "execution_count": 8,
   "metadata": {},
   "outputs": [
    {
     "data": {
      "text/plain": [
       "(-3.0, 2.0)"
      ]
     },
     "execution_count": 8,
     "metadata": {},
     "output_type": "execute_result"
    }
   ],
   "source": [
    "calculate_roots(1,1,-6)"
   ]
  },
  {
   "cell_type": "code",
   "execution_count": null,
   "metadata": {},
   "outputs": [],
   "source": []
  }
 ],
 "metadata": {
  "kernelspec": {
   "display_name": "Python 3",
   "language": "python",
   "name": "python3"
  },
  "language_info": {
   "codemirror_mode": {
    "name": "ipython",
    "version": 3
   },
   "file_extension": ".py",
   "mimetype": "text/x-python",
   "name": "python",
   "nbconvert_exporter": "python",
   "pygments_lexer": "ipython3",
   "version": "3.7.4"
  }
 },
 "nbformat": 4,
 "nbformat_minor": 2
}
