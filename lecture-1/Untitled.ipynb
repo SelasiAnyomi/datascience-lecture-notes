{
 "cells": [
  {
   "cell_type": "code",
   "execution_count": 4,
   "metadata": {},
   "outputs": [
    {
     "ename": "SyntaxError",
     "evalue": "invalid syntax (<ipython-input-4-d9eb3e77ada8>, line 17)",
     "output_type": "error",
     "traceback": [
      "\u001b[1;36m  File \u001b[1;32m\"<ipython-input-4-d9eb3e77ada8>\"\u001b[1;36m, line \u001b[1;32m17\u001b[0m\n\u001b[1;33m    if discriminant = 0:\u001b[0m\n\u001b[1;37m                    ^\u001b[0m\n\u001b[1;31mSyntaxError\u001b[0m\u001b[1;31m:\u001b[0m invalid syntax\n"
     ]
    }
   ],
   "source": [
    "# calculate the discriminant first\n",
    "# discriminant = d = (b**2)-(4*a*c)\n",
    "# check if discriminant < 0\n",
    "# return none if dicriminant is less than 0\n",
    "# return result \"x1\" = {} and x2 = {}\n",
    "# where x1 = (-b -math.sqrt(discriminant))/(2*a)\n",
    "# where x2 = (-b +math.sqrt(discriminant))/(2*a)\n",
    "# return x1, x2\n",
    "import math\n",
    "def calculate_roots(a,b,c):\n",
    "    \n",
    "    discriminant = (b**2)-(4*a*c)\n",
    "    if discriminant < 0:\n",
    "        return None\n",
    "    if discriminant > 0:\n",
    "        return Real \n",
    "    if discriminant = 0:\n",
    "        return Exact solution\n",
    "\n",
    "    else:\n",
    "        x1 = (-b -math.sqrt(discriminant))/(2*a)\n",
    "        x2 = (-b +math.sqrt(discriminant))/(2*a)\n",
    "        \n",
    "        x1 =  (-b+-√b^2-4ac) / 2a.\n",
    "        x2 =  (-b+-√b^2-4ac) / 2a.\n",
    "    \n",
    "        return x1,x2"
   ]
  },
  {
   "cell_type": "code",
   "execution_count": null,
   "metadata": {},
   "outputs": [],
   "source": []
  }
 ],
 "metadata": {
  "kernelspec": {
   "display_name": "Python 3",
   "language": "python",
   "name": "python3"
  },
  "language_info": {
   "codemirror_mode": {
    "name": "ipython",
    "version": 3
   },
   "file_extension": ".py",
   "mimetype": "text/x-python",
   "name": "python",
   "nbconvert_exporter": "python",
   "pygments_lexer": "ipython3",
   "version": "3.7.4"
  }
 },
 "nbformat": 4,
 "nbformat_minor": 2
}
